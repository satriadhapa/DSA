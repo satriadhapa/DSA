{
 "cells": [
  {
   "cell_type": "code",
   "execution_count": 1,
   "metadata": {},
   "outputs": [],
   "source": [
    "#Pengantar Data Structures dan Algorithms"
   ]
  },
  {
   "cell_type": "code",
   "execution_count": 5,
   "metadata": {},
   "outputs": [
    {
     "name": "stdout",
     "output_type": "stream",
     "text": [
      "nilai terkecil:  1\n"
     ]
    }
   ],
   "source": [
    "my_arr = [6, 34, 2, 4, 1, 99]\n",
    "minval = my_arr[0]\n",
    "\n",
    "for i in my_arr:\n",
    "    if i < minval:\n",
    "        minval = i\n",
    "\n",
    "print(\"nilai terkecil: \", minval)"
   ]
  },
  {
   "cell_type": "code",
   "execution_count": 14,
   "metadata": {},
   "outputs": [
    {
     "name": "stdout",
     "output_type": "stream",
     "text": [
      "0\n",
      "1\n",
      "1\n",
      "2\n",
      "3\n",
      "5\n",
      "8\n",
      "13\n",
      "21\n",
      "34\n",
      "55\n"
     ]
    }
   ],
   "source": [
    "# fibonaci\n",
    "\n",
    "# Dua variabel untuk menampung dua angka Fibonacci sebelumnya\n",
    "# Sebuah loop for yang berjalan 18 kali\n",
    "# Buat angka Fibonacci baru dengan menambahkan dua angka sebelumnya\n",
    "# Cetak angka Fibonacci baru\n",
    "# Perbarui variabel yang menyimpan dua angka fibonacci sebelumnya\n",
    "\n",
    "\n",
    "a = 0\n",
    "b = 1\n",
    "\n",
    "print(a)\n",
    "\n",
    "for fib in range(10):\n",
    "    new_fib = a + b\n",
    "    print(new_fib)\n",
    "    b = a\n",
    "    a = new_fib\n",
    "    "
   ]
  },
  {
   "cell_type": "code",
   "execution_count": 18,
   "metadata": {},
   "outputs": [
    {
     "name": "stdout",
     "output_type": "stream",
     "text": [
      "0\n",
      "1\n",
      "1\n",
      "2\n",
      "3\n",
      "5\n",
      "8\n",
      "13\n",
      "21\n",
      "34\n",
      "55\n"
     ]
    }
   ],
   "source": [
    "# dengan menggunakan rekursi\n",
    "\n",
    "print(0)\n",
    "print(1)\n",
    "\n",
    "count = 2\n",
    "\n",
    "def fibo(x, y):\n",
    "    global count\n",
    "    if count <= 10:\n",
    "        nfibo = x + y\n",
    "        print(nfibo)\n",
    "        y = x\n",
    "        x = nfibo\n",
    "        count += 1\n",
    "        fibo(x, y)\n",
    "    else:\n",
    "        return\n",
    "\n",
    "fibo(1, 0)"
   ]
  },
  {
   "cell_type": "code",
   "execution_count": 23,
   "metadata": {},
   "outputs": [
    {
     "name": "stdout",
     "output_type": "stream",
     "text": [
      "55\n"
     ]
    }
   ],
   "source": [
    "# fibonaci dengan menggunakan rumus asli nya\n",
    "# Rumus F(n) = F(n-1) + F(n-2)\n",
    "\n",
    "def F(n):\n",
    "    if n <= 1:\n",
    "        return n\n",
    "    else:\n",
    "        return F(n-1) + F(n-2)\n",
    "    \n",
    "print(F(10))"
   ]
  },
  {
   "cell_type": "code",
   "execution_count": null,
   "metadata": {},
   "outputs": [],
   "source": []
  }
 ],
 "metadata": {
  "kernelspec": {
   "display_name": "Python 3",
   "language": "python",
   "name": "python3"
  },
  "language_info": {
   "codemirror_mode": {
    "name": "ipython",
    "version": 3
   },
   "file_extension": ".py",
   "mimetype": "text/x-python",
   "name": "python",
   "nbconvert_exporter": "python",
   "pygments_lexer": "ipython3",
   "version": "3.11.9"
  }
 },
 "nbformat": 4,
 "nbformat_minor": 2
}
