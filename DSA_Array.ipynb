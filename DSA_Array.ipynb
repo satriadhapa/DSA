{
 "cells": [
  {
   "cell_type": "code",
   "execution_count": null,
   "metadata": {},
   "outputs": [],
   "source": [
    "# DSA Dengan Array"
   ]
  },
  {
   "cell_type": "code",
   "execution_count": 1,
   "metadata": {},
   "outputs": [],
   "source": [
    "# Buat variabel 'minVal' dan atur agar sama dengan nilai pertama array.\n",
    "# Telusuri setiap elemen dalam array.\n",
    "# Jika elemen saat ini memiliki nilai lebih rendah dari 'minVal', perbarui 'minVal' ke nilai ini.\n",
    "# Setelah melihat semua elemen dalam array, variabel 'minVal' sekarang berisi nilai terendah."
   ]
  },
  {
   "cell_type": "code",
   "execution_count": 6,
   "metadata": {},
   "outputs": [
    {
     "name": "stdout",
     "output_type": "stream",
     "text": [
      "Nilai terendah:  2\n"
     ]
    }
   ],
   "source": [
    "my_arr = [4, 76,3 ,2,23, 4,3]\n",
    "minval = my_arr[0]\n",
    "for i in my_arr:\n",
    "    if i < minval:\n",
    "        minval = i\n",
    "print(\"Nilai terendah: \", minval)"
   ]
  },
  {
   "cell_type": "code",
   "execution_count": null,
   "metadata": {},
   "outputs": [],
   "source": []
  }
 ],
 "metadata": {
  "kernelspec": {
   "display_name": "Python 3",
   "language": "python",
   "name": "python3"
  },
  "language_info": {
   "codemirror_mode": {
    "name": "ipython",
    "version": 3
   },
   "file_extension": ".py",
   "mimetype": "text/x-python",
   "name": "python",
   "nbconvert_exporter": "python",
   "pygments_lexer": "ipython3",
   "version": "3.11.9"
  }
 },
 "nbformat": 4,
 "nbformat_minor": 2
}
